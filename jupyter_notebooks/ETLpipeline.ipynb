{
 "cells": [
  {
   "cell_type": "markdown",
   "id": "4f117c81",
   "metadata": {},
   "source": [
    "* ETL pipeline"
   ]
  },
  {
   "cell_type": "markdown",
   "id": "88fb83b9",
   "metadata": {},
   "source": [
    "* Data Extract"
   ]
  },
  {
   "cell_type": "markdown",
   "id": "48db5b6a",
   "metadata": {},
   "source": [
    " **(ADD THE NOTEBOOK NAME HERE)**"
   ]
  }
 ],
 "metadata": {
  "kernelspec": {
   "display_name": ".venv",
   "language": "python",
   "name": "python3"
  },
  "language_info": {
   "name": "python",
   "version": "3.12.8"
  }
 },
 "nbformat": 4,
 "nbformat_minor": 5
}
